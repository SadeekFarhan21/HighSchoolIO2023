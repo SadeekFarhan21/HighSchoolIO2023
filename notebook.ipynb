{
 "cells": [
  {
   "cell_type": "code",
   "execution_count": 23,
   "metadata": {},
   "outputs": [
    {
     "name": "stdout",
     "output_type": "stream",
     "text": [
      "Accuracy: 93.36%\n"
     ]
    }
   ],
   "source": [
    "import pandas as pd\n",
    "from sklearn.model_selection import train_test_split\n",
    "from sklearn.feature_extraction.text import TfidfVectorizer\n",
    "from sklearn.linear_model import LogisticRegression\n",
    "from sklearn.metrics import accuracy_score\n",
    "\n",
    "# Load your dataset and preprocess 'Label' as you mentioned before\n",
    "df = pd.read_csv('data.csv')\n",
    "df['Label'] = df['Label'].map({\"FAKE\": 0, \"REAL\": 1})\n",
    "df = df.drop('ID', axis=1)\n",
    "\n",
    "# Assuming your dataset has 'Text' and 'Label' columns\n",
    "X = df['Text'].values\n",
    "y = df['Label'].values\n",
    "\n",
    "answer = None\n",
    "\n",
    "# Split the dataset into training and testing sets\n",
    "X_train, X_test, y_train, y_test = train_test_split(X, y, test_size=0.2, random_state=17)\n",
    "\n",
    "# Vectorize the text data using TF-IDF from scikit-learn\n",
    "vectorizer = TfidfVectorizer()\n",
    "X_train_tfidf = vectorizer.fit_transform(X_train)\n",
    "X_test_tfidf = vectorizer.transform(X_test)\n",
    "\n",
    "# Create and fit the Logistic Regression model\n",
    "logreg_classifier = LogisticRegression(random_state=42)\n",
    "logreg_classifier.fit(X_train_tfidf, y_train)\n",
    "\n",
    "# Make predictions on the test set\n",
    "y_pred_logreg = logreg_classifier.predict(X_test_tfidf)\n",
    "\n",
    "# Evaluate the Logistic Regression model\n",
    "accuracy_logreg = accuracy_score(y_test, y_pred_logreg)\n",
    "\n",
    "# Print the accuracy\n",
    "print(f\"Accuracy: {accuracy_logreg * 100:.2f}%\")\n",
    "\n",
    "# The rest of your code can continue from here..."
   ]
  }
 ],
 "metadata": {
  "kernelspec": {
   "display_name": "Python 3",
   "language": "python",
   "name": "python3"
  },
  "language_info": {
   "codemirror_mode": {
    "name": "ipython",
    "version": 3
   },
   "file_extension": ".py",
   "mimetype": "text/x-python",
   "name": "python",
   "nbconvert_exporter": "python",
   "pygments_lexer": "ipython3",
   "version": "3.11.4"
  }
 },
 "nbformat": 4,
 "nbformat_minor": 2
}
